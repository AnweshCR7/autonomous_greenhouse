{
  "nbformat": 4,
  "nbformat_minor": 0,
  "metadata": {
    "colab": {
      "name": "melanomaDetection.ipynb",
      "provenance": [],
      "collapsed_sections": [],
      "include_colab_link": true
    },
    "kernelspec": {
      "name": "python3",
      "display_name": "Python 3"
    }
  },
  "cells": [
    {
      "cell_type": "markdown",
      "metadata": {
        "id": "view-in-github",
        "colab_type": "text"
      },
      "source": [
        "<a href=\"https://colab.research.google.com/github/AnweshCR7/autonomous_greenhouse/blob/basic_v1/ModelForColab.ipynb\" target=\"_parent\"><img src=\"https://colab.research.google.com/assets/colab-badge.svg\" alt=\"Open In Colab\"/></a>"
      ]
    },
    {
      "cell_type": "code",
      "metadata": {
        "colab": {
          "base_uri": "https://localhost:8080/"
        },
        "id": "QMRaimMFMErb",
        "outputId": "c5337951-1bfe-4590-9d04-a4b19a9b8ecd"
      },
      "source": [
        "# Mount Google Drive\n",
        "from google.colab import drive # import drive from google colab\n",
        "\n",
        "ROOT = \"/content/drive\"     # default location for the drive\n",
        "print(ROOT)                 # print content of ROOT (Optional)\n",
        "\n",
        "drive.mount(ROOT)           # we mount the google drive at /content/drive"
      ],
      "execution_count": 2,
      "outputs": [
        {
          "output_type": "stream",
          "text": [
            "/content/drive\n",
            "Mounted at /content/drive\n"
          ],
          "name": "stdout"
        }
      ]
    },
    {
      "cell_type": "code",
      "metadata": {
        "colab": {
          "base_uri": "https://localhost:8080/"
        },
        "id": "mFWquqGJMXs0",
        "outputId": "a0e4360a-b518-4844-815f-09cbe140e75e"
      },
      "source": [
        "# Clone github repository setup\n",
        "from os.path import join  \n",
        "\n",
        "# path to your project on Google Drive\n",
        "MY_GOOGLE_DRIVE_PATH = 'drive/MyDrive/'\n",
        "\n",
        "# Change to your Github username GIT_USERNAME = \"{GITHUB USERNAME}\" \n",
        "GIT_USERNAME = \"anweshcr7\" \n",
        "\n",
        "# GitHub access token GIT_TOKEN = \"{GITHUB TOKEN}\"\n",
        "# You can generate an access token from your github profile and paste it here\n",
        "# that will allow you to get access to the repository through colab.\n",
        "GIT_TOKEN = \"PASTE ACCESS TOKEN HERE\"  \n",
        "# Replace with your github repository\n",
        "GIT_REPOSITORY = \"autonomous_greenhouse\" \n",
        "\n",
        "# PROJECT_PATH = join(ROOT, MY_GOOGLE_DRIVE_PATH)\n",
        "PROJECT_PATH = ROOT\n",
        "print(\"PROJECT_PATH: \", PROJECT_PATH)   \n",
        "\n",
        "# # In case we haven't created the folder already; we will create a folder in the project path \n",
        "# !mkdir \"{PROJECT_PATH}\"    \n",
        "\n",
        "GIT_PATH = f\"https://{GIT_TOKEN}@github.com/{GIT_USERNAME}/{GIT_REPOSITORY}.git\"\n",
        "print(\"GIT_PATH: \", GIT_PATH)\n",
        "# Check if the url is fromed correctly..."
      ],
      "execution_count": 3,
      "outputs": [
        {
          "output_type": "stream",
          "text": [
            "PROJECT_PATH:  /content/drive\n",
            "GIT_PATH:  https://PASTE ACCESS TOKEN HERE@github.com/anweshcr7/autonomous_greenhouse.git\n"
          ],
          "name": "stdout"
        }
      ]
    },
    {
      "cell_type": "code",
      "metadata": {
        "colab": {
          "base_uri": "https://localhost:8080/"
        },
        "id": "aYKVgctbOAnp",
        "outputId": "bad72231-a79c-463f-83f7-ebd88eab92d0"
      },
      "source": [
        "# The working branch\n",
        "GIT_BRANCH = \"basic_v1\"\n",
        "\n",
        "# if the code repo exists already\n",
        "%rm -r /content/autonomous_greenhouse/\n",
        "# EXEC_COMMAND = f\"-b {GIT_BRANCH} {GIT_PATH}\"\n",
        "!git clone -b \"{GIT_BRANCH}\" \"{GIT_PATH}\""
      ],
      "execution_count": null,
      "outputs": [
        {
          "output_type": "stream",
          "text": [
            "rm: cannot remove '/content/autonomous_greenhouse/': No such file or directory\n",
            "Cloning into 'autonomous_greenhouse'...\n",
            "remote: Enumerating objects: 55, done.\u001b[K\n",
            "remote: Counting objects: 100% (55/55), done.\u001b[K\n",
            "remote: Compressing objects: 100% (35/35), done.\u001b[K\n",
            "remote: Total 55 (delta 19), reused 45 (delta 13), pack-reused 0\u001b[K\n",
            "Unpacking objects: 100% (55/55), done.\n"
          ],
          "name": "stdout"
        }
      ]
    },
    {
      "cell_type": "code",
      "metadata": {
        "id": "8QswFiziuf_T",
        "colab": {
          "base_uri": "https://localhost:8080/"
        },
        "outputId": "1174d8ed-2477-4806-df3f-0005c67c7cd1"
      },
      "source": [
        "# change directory to the repo\n",
        "import os\n",
        "try:\n",
        "  os.chdir(f\"./{GIT_REPOSITORY}/src\")\n",
        "  print(\"Working directory was changed\")\n",
        "except:\n",
        "  print(\"Something went wrong!!\")\n",
        "\n",
        "# check if we are in the correct directory\n",
        "!pwd"
      ],
      "execution_count": null,
      "outputs": [
        {
          "output_type": "stream",
          "text": [
            "Something went wrong!!\n",
            "/content/autonomous_greenhouse\n"
          ],
          "name": "stdout"
        }
      ]
    },
    {
      "cell_type": "markdown",
      "metadata": {
        "id": "G3UkENZfydnU"
      },
      "source": [
        "Before executing the next cell, make sure that the values in src/config.py point to the correct locations! You can also configure the model hyperparameters from this file..."
      ]
    },
    {
      "cell_type": "code",
      "metadata": {
        "id": "ZXCy0pfQwLSm",
        "colab": {
          "base_uri": "https://localhost:8080/"
        },
        "outputId": "aed9e5d9-eb24-4d14-f591-032e7229faeb"
      },
      "source": [
        "DRIVE_DATA_PATH = join(ROOT, MY_GOOGLE_DRIVE_PATH, \"data/FirstTrainingData\")\n",
        "if not os.path.exists(\"/content/drive/MyDrive/data/FirstTrainingData\"):\n",
        "  print(f\"Please upload the lettuce datafolder: FirstTrainingData to drive at {DRIVE_DATA_PATH}\")\n",
        "else:\n",
        "  print(\"Training data was found!\")\n",
        "\n",
        "import config\n",
        "print('Creating folders on Drive (if needed)')\n",
        "if not os.path.exists(config.CHECKPOINT_PATH):\n",
        "  os.mkdirs(config.CHECKPOINT_PATH)\n",
        "\n",
        "if not os.path.exists(config.PLOT_PATH):\n",
        "  os.mkdirs(config.PLOT_PATH)\n",
        "\n",
        "print(\"Done!\")\n",
        "  "
      ],
      "execution_count": null,
      "outputs": [
        {
          "output_type": "stream",
          "text": [
            "Training data was found!\n",
            "Creating folders on Drive (if needed)\n"
          ],
          "name": "stdout"
        }
      ]
    },
    {
      "cell_type": "code",
      "metadata": {
        "colab": {
          "base_uri": "https://localhost:8080/"
        },
        "id": "UVkBhRqEQK9L",
        "outputId": "66ec1800-7b46-4b65-e0b5-d303e37efcb7"
      },
      "source": [
        "!python3 main.py"
      ],
      "execution_count": null,
      "outputs": [
        {
          "output_type": "stream",
          "text": [
            "GPU not available, using CPU\n",
            "Output directory is created\n",
            "2021-06-03 07:21:33.536178: I tensorflow/stream_executor/platform/default/dso_loader.cc:53] Successfully opened dynamic library libcudart.so.11.0\n",
            "Traceback (most recent call last):\n",
            "  File \"src/main.py\", line 179, in <module>\n",
            "    run_training()\n",
            "  File \"src/main.py\", line 64, in run_training\n",
            "    f = open(config.JSON_FILE)\n",
            "FileNotFoundError: [Errno 2] No such file or directory: '../data/FirstTrainingData/GroundTruth.json'\n"
          ],
          "name": "stdout"
        }
      ]
    }
  ]
}